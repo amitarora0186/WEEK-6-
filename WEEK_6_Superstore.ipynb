{
  "nbformat": 4,
  "nbformat_minor": 0,
  "metadata": {
    "colab": {
      "provenance": []
    },
    "kernelspec": {
      "name": "python3",
      "display_name": "Python 3"
    },
    "language_info": {
      "name": "python"
    }
  },
  "cells": [
    {
      "cell_type": "code",
      "execution_count": 5,
      "metadata": {
        "id": "e57159ae"
      },
      "outputs": [],
      "source": [
        "import pandas as pd\n",
        "import numpy as np"
      ]
    },
    {
      "cell_type": "code",
      "source": [
        "from google.colab import files\n",
        "uploaded = files.upload()"
      ],
      "metadata": {
        "colab": {
          "base_uri": "https://localhost:8080/",
          "height": 39
        },
        "id": "5maY6mLcgsUM",
        "outputId": "5bd1f208-d2fd-445e-e9cd-38a45d1bee82"
      },
      "execution_count": null,
      "outputs": [
        {
          "output_type": "display_data",
          "data": {
            "text/plain": [
              "<IPython.core.display.HTML object>"
            ],
            "text/html": [
              "\n",
              "     <input type=\"file\" id=\"files-4f84d476-e87c-44b6-9c7b-96cae0e568a8\" name=\"files[]\" multiple disabled\n",
              "        style=\"border:none\" />\n",
              "     <output id=\"result-4f84d476-e87c-44b6-9c7b-96cae0e568a8\">\n",
              "      Upload widget is only available when the cell has been executed in the\n",
              "      current browser session. Please rerun this cell to enable.\n",
              "      </output>\n",
              "      <script>// Copyright 2017 Google LLC\n",
              "//\n",
              "// Licensed under the Apache License, Version 2.0 (the \"License\");\n",
              "// you may not use this file except in compliance with the License.\n",
              "// You may obtain a copy of the License at\n",
              "//\n",
              "//      http://www.apache.org/licenses/LICENSE-2.0\n",
              "//\n",
              "// Unless required by applicable law or agreed to in writing, software\n",
              "// distributed under the License is distributed on an \"AS IS\" BASIS,\n",
              "// WITHOUT WARRANTIES OR CONDITIONS OF ANY KIND, either express or implied.\n",
              "// See the License for the specific language governing permissions and\n",
              "// limitations under the License.\n",
              "\n",
              "/**\n",
              " * @fileoverview Helpers for google.colab Python module.\n",
              " */\n",
              "(function(scope) {\n",
              "function span(text, styleAttributes = {}) {\n",
              "  const element = document.createElement('span');\n",
              "  element.textContent = text;\n",
              "  for (const key of Object.keys(styleAttributes)) {\n",
              "    element.style[key] = styleAttributes[key];\n",
              "  }\n",
              "  return element;\n",
              "}\n",
              "\n",
              "// Max number of bytes which will be uploaded at a time.\n",
              "const MAX_PAYLOAD_SIZE = 100 * 1024;\n",
              "\n",
              "function _uploadFiles(inputId, outputId) {\n",
              "  const steps = uploadFilesStep(inputId, outputId);\n",
              "  const outputElement = document.getElementById(outputId);\n",
              "  // Cache steps on the outputElement to make it available for the next call\n",
              "  // to uploadFilesContinue from Python.\n",
              "  outputElement.steps = steps;\n",
              "\n",
              "  return _uploadFilesContinue(outputId);\n",
              "}\n",
              "\n",
              "// This is roughly an async generator (not supported in the browser yet),\n",
              "// where there are multiple asynchronous steps and the Python side is going\n",
              "// to poll for completion of each step.\n",
              "// This uses a Promise to block the python side on completion of each step,\n",
              "// then passes the result of the previous step as the input to the next step.\n",
              "function _uploadFilesContinue(outputId) {\n",
              "  const outputElement = document.getElementById(outputId);\n",
              "  const steps = outputElement.steps;\n",
              "\n",
              "  const next = steps.next(outputElement.lastPromiseValue);\n",
              "  return Promise.resolve(next.value.promise).then((value) => {\n",
              "    // Cache the last promise value to make it available to the next\n",
              "    // step of the generator.\n",
              "    outputElement.lastPromiseValue = value;\n",
              "    return next.value.response;\n",
              "  });\n",
              "}\n",
              "\n",
              "/**\n",
              " * Generator function which is called between each async step of the upload\n",
              " * process.\n",
              " * @param {string} inputId Element ID of the input file picker element.\n",
              " * @param {string} outputId Element ID of the output display.\n",
              " * @return {!Iterable<!Object>} Iterable of next steps.\n",
              " */\n",
              "function* uploadFilesStep(inputId, outputId) {\n",
              "  const inputElement = document.getElementById(inputId);\n",
              "  inputElement.disabled = false;\n",
              "\n",
              "  const outputElement = document.getElementById(outputId);\n",
              "  outputElement.innerHTML = '';\n",
              "\n",
              "  const pickedPromise = new Promise((resolve) => {\n",
              "    inputElement.addEventListener('change', (e) => {\n",
              "      resolve(e.target.files);\n",
              "    });\n",
              "  });\n",
              "\n",
              "  const cancel = document.createElement('button');\n",
              "  inputElement.parentElement.appendChild(cancel);\n",
              "  cancel.textContent = 'Cancel upload';\n",
              "  const cancelPromise = new Promise((resolve) => {\n",
              "    cancel.onclick = () => {\n",
              "      resolve(null);\n",
              "    };\n",
              "  });\n",
              "\n",
              "  // Wait for the user to pick the files.\n",
              "  const files = yield {\n",
              "    promise: Promise.race([pickedPromise, cancelPromise]),\n",
              "    response: {\n",
              "      action: 'starting',\n",
              "    }\n",
              "  };\n",
              "\n",
              "  cancel.remove();\n",
              "\n",
              "  // Disable the input element since further picks are not allowed.\n",
              "  inputElement.disabled = true;\n",
              "\n",
              "  if (!files) {\n",
              "    return {\n",
              "      response: {\n",
              "        action: 'complete',\n",
              "      }\n",
              "    };\n",
              "  }\n",
              "\n",
              "  for (const file of files) {\n",
              "    const li = document.createElement('li');\n",
              "    li.append(span(file.name, {fontWeight: 'bold'}));\n",
              "    li.append(span(\n",
              "        `(${file.type || 'n/a'}) - ${file.size} bytes, ` +\n",
              "        `last modified: ${\n",
              "            file.lastModifiedDate ? file.lastModifiedDate.toLocaleDateString() :\n",
              "                                    'n/a'} - `));\n",
              "    const percent = span('0% done');\n",
              "    li.appendChild(percent);\n",
              "\n",
              "    outputElement.appendChild(li);\n",
              "\n",
              "    const fileDataPromise = new Promise((resolve) => {\n",
              "      const reader = new FileReader();\n",
              "      reader.onload = (e) => {\n",
              "        resolve(e.target.result);\n",
              "      };\n",
              "      reader.readAsArrayBuffer(file);\n",
              "    });\n",
              "    // Wait for the data to be ready.\n",
              "    let fileData = yield {\n",
              "      promise: fileDataPromise,\n",
              "      response: {\n",
              "        action: 'continue',\n",
              "      }\n",
              "    };\n",
              "\n",
              "    // Use a chunked sending to avoid message size limits. See b/62115660.\n",
              "    let position = 0;\n",
              "    do {\n",
              "      const length = Math.min(fileData.byteLength - position, MAX_PAYLOAD_SIZE);\n",
              "      const chunk = new Uint8Array(fileData, position, length);\n",
              "      position += length;\n",
              "\n",
              "      const base64 = btoa(String.fromCharCode.apply(null, chunk));\n",
              "      yield {\n",
              "        response: {\n",
              "          action: 'append',\n",
              "          file: file.name,\n",
              "          data: base64,\n",
              "        },\n",
              "      };\n",
              "\n",
              "      let percentDone = fileData.byteLength === 0 ?\n",
              "          100 :\n",
              "          Math.round((position / fileData.byteLength) * 100);\n",
              "      percent.textContent = `${percentDone}% done`;\n",
              "\n",
              "    } while (position < fileData.byteLength);\n",
              "  }\n",
              "\n",
              "  // All done.\n",
              "  yield {\n",
              "    response: {\n",
              "      action: 'complete',\n",
              "    }\n",
              "  };\n",
              "}\n",
              "\n",
              "scope.google = scope.google || {};\n",
              "scope.google.colab = scope.google.colab || {};\n",
              "scope.google.colab._files = {\n",
              "  _uploadFiles,\n",
              "  _uploadFilesContinue,\n",
              "};\n",
              "})(self);\n",
              "</script> "
            ]
          },
          "metadata": {}
        }
      ]
    },
    {
      "cell_type": "code",
      "execution_count": null,
      "metadata": {
        "id": "5ffda121"
      },
      "outputs": [],
      "source": [
        "sales = pd.read_csv('train.csv')"
      ]
    },
    {
      "cell_type": "code",
      "execution_count": null,
      "metadata": {
        "id": "78b47d47"
      },
      "outputs": [],
      "source": [
        "sales.head()"
      ]
    },
    {
      "cell_type": "code",
      "execution_count": null,
      "metadata": {
        "id": "13d4fbec"
      },
      "outputs": [],
      "source": [
        "sales.info()"
      ]
    },
    {
      "cell_type": "code",
      "execution_count": null,
      "metadata": {
        "id": "cf0af21c"
      },
      "outputs": [],
      "source": [
        "sales.isna().sum()"
      ]
    },
    {
      "cell_type": "code",
      "execution_count": null,
      "metadata": {
        "id": "3f6350a6"
      },
      "outputs": [],
      "source": [
        "sales.shape"
      ]
    },
    {
      "cell_type": "markdown",
      "metadata": {
        "id": "72992485"
      },
      "source": [
        "**In this dataset we have 9800 rows and 18 columns**"
      ]
    },
    {
      "cell_type": "markdown",
      "metadata": {
        "id": "8c0715bb"
      },
      "source": [
        "**Sales is our target column.**"
      ]
    },
    {
      "cell_type": "markdown",
      "metadata": {
        "id": "e3a467ae"
      },
      "source": [
        "**Filling the missing values**"
      ]
    },
    {
      "cell_type": "code",
      "execution_count": null,
      "metadata": {
        "id": "868390d8"
      },
      "outputs": [],
      "source": [
        "sales.isna().sum()"
      ]
    },
    {
      "cell_type": "markdown",
      "metadata": {
        "id": "4e682d37"
      },
      "source": [
        "**Postal code has 11 missing values. Since there are only 11 missing values, we can drop the 11 rows it won't affect the dataset.**"
      ]
    },
    {
      "cell_type": "code",
      "execution_count": null,
      "metadata": {
        "id": "f11ef573"
      },
      "outputs": [],
      "source": [
        "sales.dropna(axis=0, inplace=True)"
      ]
    },
    {
      "cell_type": "code",
      "execution_count": null,
      "metadata": {
        "id": "959274a6"
      },
      "outputs": [],
      "source": [
        "sales.shape"
      ]
    },
    {
      "cell_type": "markdown",
      "metadata": {
        "id": "0d74c24f"
      },
      "source": [
        "**We can drop RowID and Customer Name since we have Customer ID**"
      ]
    },
    {
      "cell_type": "code",
      "execution_count": null,
      "metadata": {
        "id": "e4ecd18a"
      },
      "outputs": [],
      "source": [
        "sales.drop(columns=['Row ID','Customer Name'], axis=1, inplace=True)"
      ]
    },
    {
      "cell_type": "markdown",
      "metadata": {
        "id": "68638d0d"
      },
      "source": [
        "**Since Country Column have same value through out the dataset. So we can drop the column.**"
      ]
    },
    {
      "cell_type": "code",
      "execution_count": null,
      "metadata": {
        "id": "ba821a45"
      },
      "outputs": [],
      "source": [
        "sales.Country.value_counts()"
      ]
    },
    {
      "cell_type": "code",
      "execution_count": null,
      "metadata": {
        "id": "bef5b1df"
      },
      "outputs": [],
      "source": [
        "sales.drop(columns=['Country'], axis=1, inplace=True)"
      ]
    },
    {
      "cell_type": "code",
      "execution_count": null,
      "metadata": {
        "id": "38434c93"
      },
      "outputs": [],
      "source": [
        "sales.head()"
      ]
    },
    {
      "cell_type": "markdown",
      "metadata": {
        "id": "48c57159"
      },
      "source": [
        "**Since Ship mode, Segment, Region, Category have nominal data. We can use label encoder or use .map() to represent the data in numerical format**"
      ]
    },
    {
      "cell_type": "code",
      "execution_count": null,
      "metadata": {
        "id": "3eac7ecf"
      },
      "outputs": [],
      "source": [
        "sales['Ship Mode'].value_counts()"
      ]
    },
    {
      "cell_type": "code",
      "execution_count": null,
      "metadata": {
        "id": "d92882e5"
      },
      "outputs": [],
      "source": [
        "sales.Segment.value_counts()"
      ]
    },
    {
      "cell_type": "code",
      "execution_count": null,
      "metadata": {
        "id": "1f5d7e91"
      },
      "outputs": [],
      "source": [
        "sales.Region.value_counts()"
      ]
    },
    {
      "cell_type": "code",
      "execution_count": null,
      "metadata": {
        "id": "049c7f01"
      },
      "outputs": [],
      "source": [
        "sales.Category.value_counts()"
      ]
    },
    {
      "cell_type": "code",
      "execution_count": null,
      "metadata": {
        "id": "7e450739"
      },
      "outputs": [],
      "source": [
        "sales['Region'] = sales['Region'].map({'Central': 0,'South':1,'East':2,'West':3})"
      ]
    },
    {
      "cell_type": "code",
      "execution_count": null,
      "metadata": {
        "id": "a31614ed"
      },
      "outputs": [],
      "source": [
        "from sklearn.preprocessing import LabelEncoder"
      ]
    },
    {
      "cell_type": "code",
      "execution_count": null,
      "metadata": {
        "id": "2e44af7c"
      },
      "outputs": [],
      "source": [
        "label_encoder = LabelEncoder()"
      ]
    },
    {
      "cell_type": "code",
      "execution_count": null,
      "metadata": {
        "id": "f5a1f3f6"
      },
      "outputs": [],
      "source": [
        "sales['Segment'] = label_encoder.fit_transform(sales['Segment'])\n",
        "label_encoder.classes_"
      ]
    },
    {
      "cell_type": "code",
      "execution_count": null,
      "metadata": {
        "id": "175ade7f"
      },
      "outputs": [],
      "source": [
        "sales.Category = label_encoder.fit_transform(sales['Category'])\n",
        "sales['Ship Mode'] = label_encoder.fit_transform(sales['Ship Mode'])"
      ]
    },
    {
      "cell_type": "markdown",
      "metadata": {
        "id": "eaceb10e"
      },
      "source": [
        "**There are 793 Unique Customers, 4916 unique Orders, 1860 unique Product**"
      ]
    },
    {
      "cell_type": "code",
      "execution_count": null,
      "metadata": {
        "id": "52956a3b"
      },
      "outputs": [],
      "source": [
        "sales['Customer ID'].nunique()"
      ]
    },
    {
      "cell_type": "code",
      "execution_count": null,
      "metadata": {
        "id": "03c8f84d"
      },
      "outputs": [],
      "source": [
        "sales['Order ID'].nunique()"
      ]
    },
    {
      "cell_type": "code",
      "execution_count": null,
      "metadata": {
        "id": "d1b3985a"
      },
      "outputs": [],
      "source": [
        "sales['Product ID'].nunique()"
      ]
    },
    {
      "cell_type": "markdown",
      "metadata": {
        "id": "f3cc05bb"
      },
      "source": [
        "**For Order Date and Ship Date. I am going to make them on seperate columns like order date, order month, order year**"
      ]
    },
    {
      "cell_type": "code",
      "execution_count": null,
      "metadata": {
        "id": "e5653e96"
      },
      "outputs": [],
      "source": [
        "sales['order_date'] = sales['Order Date'].str.split('/').str[0]"
      ]
    },
    {
      "cell_type": "code",
      "execution_count": null,
      "metadata": {
        "id": "1781798b"
      },
      "outputs": [],
      "source": [
        "sales['order_month'] = sales['Order Date'].str.split('/').str[1]\n",
        "sales['order_year'] = sales['Order Date'].str.split('/').str[2]"
      ]
    },
    {
      "cell_type": "code",
      "execution_count": null,
      "metadata": {
        "id": "e0e3f70c"
      },
      "outputs": [],
      "source": [
        "## Same with ship date column\n",
        "sales['ship_date'] = sales['Ship Date'].str.split('/').str[0]\n",
        "sales['ship_month'] = sales['Ship Date'].str.split('/').str[1]\n",
        "sales['ship_year'] = sales['Ship Date'].str.split('/').str[2]"
      ]
    },
    {
      "cell_type": "code",
      "execution_count": null,
      "metadata": {
        "id": "39120e62"
      },
      "outputs": [],
      "source": [
        "sales['order_date'] = sales['order_date'].astype(int)\n",
        "sales['order_month'] = sales['order_month'].astype(int)\n",
        "sales['order_year'] = sales['order_year'].astype(int)"
      ]
    },
    {
      "cell_type": "code",
      "execution_count": null,
      "metadata": {
        "id": "3e322e17"
      },
      "outputs": [],
      "source": [
        "sales['ship_date']= sales['ship_date'].astype(int)\n",
        "sales['ship_month'] = sales['ship_month'].astype(int)\n",
        "sales['ship_year'] = sales['ship_year'].astype(int)"
      ]
    },
    {
      "cell_type": "code",
      "execution_count": null,
      "metadata": {
        "id": "938a85ea"
      },
      "outputs": [],
      "source": [
        "sales.head()"
      ]
    },
    {
      "cell_type": "markdown",
      "metadata": {
        "id": "d7594d86"
      },
      "source": [
        "**Now we can drop Order Date and Ship Date**"
      ]
    },
    {
      "cell_type": "code",
      "execution_count": null,
      "metadata": {
        "id": "da0fab54"
      },
      "outputs": [],
      "source": [
        "sales.drop(columns=['Order Date','Ship Date'], axis=1, inplace=True)"
      ]
    },
    {
      "cell_type": "code",
      "execution_count": null,
      "metadata": {
        "id": "df9708e9"
      },
      "outputs": [],
      "source": [
        "sales.head()"
      ]
    },
    {
      "cell_type": "code",
      "execution_count": null,
      "metadata": {
        "id": "40e3e6de"
      },
      "outputs": [],
      "source": [
        "sales.dtypes"
      ]
    },
    {
      "cell_type": "markdown",
      "metadata": {
        "id": "c914b394"
      },
      "source": [
        "**The average sales is 230.116 and the max sales is 22638.48 and the min sales is 0.444**"
      ]
    },
    {
      "cell_type": "code",
      "execution_count": null,
      "metadata": {
        "id": "9f72de06"
      },
      "outputs": [],
      "source": [
        "sales.describe()"
      ]
    },
    {
      "cell_type": "markdown",
      "metadata": {
        "id": "e45579a2"
      },
      "source": [
        "# DATA VISUALIZATION"
      ]
    },
    {
      "cell_type": "code",
      "execution_count": null,
      "metadata": {
        "id": "c87206f3"
      },
      "outputs": [],
      "source": [
        "import seaborn as sns\n",
        "import matplotlib.pyplot as plt\n",
        "%matplotlib inline"
      ]
    },
    {
      "cell_type": "markdown",
      "metadata": {
        "id": "b446eba5"
      },
      "source": [
        "**Univariate and bivariate Analysis**"
      ]
    },
    {
      "cell_type": "code",
      "execution_count": null,
      "metadata": {
        "id": "4c226a55"
      },
      "outputs": [],
      "source": [
        "plt.figure(figsize=(5,5))\n",
        "plt.hist(sales['Region'], bins=30, color='green')\n",
        "plt.title('Most Frequent orders according to Region')\n",
        "plt.xticks([0,1,2,3])\n",
        "plt.xlabel('Region')\n",
        "plt.ylabel('Frequency')\n",
        "plt.tight_layout()"
      ]
    },
    {
      "cell_type": "markdown",
      "metadata": {
        "id": "c6ffa713"
      },
      "source": [
        "**Most no of orders are from West(3) and least no of orders are from South(1)**"
      ]
    },
    {
      "cell_type": "code",
      "execution_count": null,
      "metadata": {
        "id": "580ca0ef"
      },
      "outputs": [],
      "source": [
        "box = sales[['Postal Code','Sales']]"
      ]
    },
    {
      "cell_type": "code",
      "execution_count": null,
      "metadata": {
        "id": "8608f0c6"
      },
      "outputs": [],
      "source": [
        "plt.figure(figsize=(8,6))\n",
        "plt.boxplot(x=box)\n",
        "plt.title('Box plot of Postal code and Sales')\n",
        "plt.tight_layout()"
      ]
    },
    {
      "cell_type": "markdown",
      "metadata": {
        "id": "20aba0a1"
      },
      "source": [
        "**We can see some outliers in the Sales column**"
      ]
    },
    {
      "cell_type": "code",
      "execution_count": null,
      "metadata": {
        "id": "9bee57c9"
      },
      "outputs": [],
      "source": [
        "plt.figure(figsize=(5,5))\n",
        "plt.hist(sales['Ship Mode'],bins=30, color='green', edgecolor='black')\n",
        "plt.title('Most used Ship Mode')\n",
        "plt.xticks([0,1,2,3])\n",
        "plt.xlabel('Ship Mode')\n",
        "plt.ylabel('Frequency')\n",
        "plt.tight_layout()"
      ]
    },
    {
      "cell_type": "markdown",
      "metadata": {
        "id": "485a1590"
      },
      "source": [
        "**Standard class is the most used ship mode and Same day is the least**"
      ]
    },
    {
      "cell_type": "code",
      "execution_count": null,
      "metadata": {
        "id": "6bbdf664"
      },
      "outputs": [],
      "source": [
        "plt.figure(figsize=(6,6))\n",
        "sns.countplot(data=sales,x='Segment')"
      ]
    },
    {
      "cell_type": "markdown",
      "metadata": {
        "id": "29646478"
      },
      "source": [
        "**The highest segment is Consumer then Coorporate then Home Office**"
      ]
    },
    {
      "cell_type": "code",
      "execution_count": null,
      "metadata": {
        "id": "0d4ffdf9"
      },
      "outputs": [],
      "source": [
        "corr = sales.corr()"
      ]
    },
    {
      "cell_type": "code",
      "execution_count": null,
      "metadata": {
        "id": "5145c370"
      },
      "outputs": [],
      "source": [
        "plt.figure(figsize=(10,8))\n",
        "sns.heatmap(corr, annot=True, fmt='.2f', cmap='coolwarm')\n",
        "plt.title('Correlation map')\n",
        "plt.tight_layout()"
      ]
    },
    {
      "cell_type": "markdown",
      "metadata": {
        "id": "a90223a8"
      },
      "source": [
        "**Order year, ship year andd order month and ship month have highest correlation meaning order and shipment have done in same year and month. We can delete one of them because of high correlation.**"
      ]
    },
    {
      "cell_type": "code",
      "execution_count": null,
      "metadata": {
        "id": "3ec36e8d"
      },
      "outputs": [],
      "source": [
        "monthly_sales = sales.groupby('order_month')['Sales'].sum()"
      ]
    },
    {
      "cell_type": "code",
      "execution_count": null,
      "metadata": {
        "id": "4540ddab"
      },
      "outputs": [],
      "source": [
        "yearly_sales = sales.groupby('order_year')['Sales'].sum()"
      ]
    },
    {
      "cell_type": "code",
      "execution_count": null,
      "metadata": {
        "id": "3330e31c"
      },
      "outputs": [],
      "source": [
        "plt.figure(figsize=(10,6))\n",
        "plt.subplot(2,1,1)\n",
        "sns.lineplot(x=monthly_sales.values, y=monthly_sales.index, marker='*')\n",
        "plt.title('Monthly Sales')\n",
        "\n",
        "plt.subplot(2,1,2)\n",
        "sns.lineplot(x=yearly_sales.index, y=yearly_sales.values, marker='*')\n",
        "plt.title('Yearly Sales')\n",
        "\n",
        "plt.tight_layout()"
      ]
    },
    {
      "cell_type": "code",
      "execution_count": null,
      "metadata": {
        "id": "abbb0f5b"
      },
      "outputs": [],
      "source": [
        "data = sales[['Postal Code','Sales','order_month','order_year']]"
      ]
    },
    {
      "cell_type": "code",
      "execution_count": null,
      "metadata": {
        "id": "04658807"
      },
      "outputs": [],
      "source": [
        "sns.pairplot(data=data)\n",
        "plt.title('Pairplot')\n",
        "plt.tight_layout()"
      ]
    },
    {
      "cell_type": "code",
      "execution_count": null,
      "metadata": {
        "id": "258f4e21"
      },
      "outputs": [],
      "source": [
        "sns.lineplot(x=sales['order_date'],y=sales['Sales'],hue=sales['Region'], marker='o', palette='coolwarm')\n",
        "plt.title('Line Plot of sales and order dath wrt Region')"
      ]
    }
  ]
}